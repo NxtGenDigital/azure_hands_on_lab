{
  "cells": [
    {
      "cell_type": "markdown",
      "metadata": {},
      "source": "# Getting started with Cosmos notebooks\nIn this notebook, we'll learn how to use Cosmos notebook features. We'll create a database and container, import some sample data in a container in Azure Cosmos DB and run some queries over it."
    },
    {
      "cell_type": "markdown",
      "metadata": {},
      "source": "### Create new database and container\n\nTo connect to the service, you can use our built-in instance of ```cosmos_client```. This is a ready to use instance of [CosmosClient](https://docs.microsoft.com/python/api/azure-cosmos/azure.cosmos.cosmos_client.cosmosclient?view=azure-python) from our Python SDK. It already has the context of this account baked in. We'll use ```cosmos_client``` to create a new database called **RetailDemo** and container called **WebsiteData**.\n\nOur dataset will contain events that occurred on the website - e.g. a user viewing an item, adding it to their cart, or purchasing it. We will partition by CartId, which represents the individual cart of each user. This will give us an even distribution of throughput and storage in our container. Learn more about how to [choose a good partition key.](https://docs.microsoft.com/azure/cosmos-db/partition-data)"
    },
    {
      "cell_type": "code",
      "execution_count": 1,
      "metadata": {
        "execution": {
          "iopub.execute_input": "2020-05-23T08:29:11.019Z",
          "iopub.status.busy": "2020-05-23T08:29:11.016Z",
          "iopub.status.idle": "2020-05-23T08:29:11.749Z",
          "shell.execute_reply": "2020-05-23T08:29:11.741Z"
        },
        "trusted": false
      },
      "outputs": [
        {
          "name": "stdout",
          "output_type": "stream",
          "text": "Database RetailDemo created\nContainer WebsiteData created\n"
        }
      ],
      "source": "import azure.cosmos\nfrom azure.cosmos.partition_key import PartitionKey\n\ndatabase = cosmos_client.create_database_if_not_exists('RetailDemo')\nprint('Database RetailDemo created')\n\ncontainer = database.create_container_if_not_exists(id='WebsiteData', partition_key=PartitionKey(path='/CartID'))\nprint('Container WebsiteData created')\n"
    },
    {
      "cell_type": "markdown",
      "metadata": {
        "nteract": {
          "transient": {
            "deleting": false
          }
        }
      },
      "source": ""
    },
    {
      "cell_type": "markdown",
      "metadata": {},
      "source": "#### Set the default database and container context to the new resources\n\nWe can use the ```%database {database_id}``` and ```%container {container_id}``` syntax."
    },
    {
      "cell_type": "code",
      "execution_count": 2,
      "metadata": {
        "execution": {
          "iopub.status.busy": "2020-05-23T08:30:42.875Z",
          "iopub.status.idle": "2020-05-23T08:30:42.939Z",
          "shell.execute_reply": "2020-05-23T08:30:42.948Z"
        },
        "trusted": false
      },
      "outputs": [],
      "source": "%database RetailDemo"
    },
    {
      "cell_type": "code",
      "execution_count": 3,
      "metadata": {
        "execution": {
          "iopub.status.busy": "2020-05-23T08:30:56.199Z",
          "iopub.status.idle": "2020-05-23T08:30:56.248Z",
          "shell.execute_reply": "2020-05-23T08:30:56.253Z"
        },
        "trusted": false
      },
      "outputs": [],
      "source": "%container WebsiteData"
    },
    {
      "cell_type": "markdown",
      "metadata": {},
      "source": "### Load in sample JSON data and insert into the container. \nWe'll use the **%%upload** magic function to insert items into the container"
    },
    {
      "cell_type": "code",
      "execution_count": 4,
      "metadata": {
        "collapsed": false,
        "execution": {
          "iopub.status.busy": "2020-05-23T08:31:25.524Z",
          "iopub.status.idle": "2020-05-23T08:31:28.337Z",
          "shell.execute_reply": "2020-05-23T08:31:28.342Z"
        },
        "inputHidden": false,
        "outputHidden": false,
        "trusted": false
      },
      "outputs": [
        {
          "data": {
            "text/html": "\r\n<span style='color:#0078D4'>\r\nDocuments successfully uploaded to WebsiteData <br/>\r\nTotal number of documents imported:<br/>\r\n&nbsp;&nbsp;Success: <b>7</b> <br/>\r\n&nbsp;&nbsp;Failure: <b>0</b> <br/>\r\nTotal time taken : <b>00:00:02</b> hours <br/>\r\nTotal RUs consumed : <b>67.97</b> <br/>\r\n<br/>\r\n</span>\r\n"
          },
          "metadata": {},
          "output_type": "display_data"
        }
      ],
      "source": "%%upload --databaseName RetailDemo --containerName WebsiteData --url https://cosmosnotebooksdata.blob.core.windows.net/notebookdata/websiteData-small.json"
    },
    {
      "cell_type": "markdown",
      "metadata": {},
      "source": "The new database and container should show up under the **Data** section. Use the refresh icon after completing the previous cell. \n\n<img src=\"https://cosmosnotebooksdata.blob.core.windows.net/notebookdata/refreshData.png\" alt=\"Refresh Data resource tree to see newly created resources\" width=\"40%\"/>"
    },
    {
      "cell_type": "markdown",
      "metadata": {},
      "source": "### Run a query using the built-in Azure Cosmos notebook magic\n"
    },
    {
      "cell_type": "code",
      "execution_count": 2,
      "metadata": {
        "execution": {
          "iopub.execute_input": "2020-05-23T08:59:14.172Z",
          "iopub.status.busy": "2020-05-23T08:59:14.103Z",
          "iopub.status.idle": "2020-05-23T08:59:14.205Z",
          "shell.execute_reply": "2020-05-23T08:59:14.207Z"
        },
        "trusted": false
      },
      "outputs": [
        {
          "data": {
            "text/html": "\r\n<div>\r\n  <style type='text/css' scoped>\r\n.collapsible {\r\n  background-color: #fff;\r\n  color: #0078D4;\r\n  cursor: pointer;\r\n  padding: 10px;\r\n  border: none;\r\n  text-align: left;\r\n  outline: none;\r\n  font-size: 15px;\r\n  border-radius: 5px;\r\n  margin: 5px\r\n}\r\n\r\n.active, .collapsible:hover {\r\n  color: #4db2ff;\r\n}\r\n\r\n.content {\r\n  margin: 2px;\r\n  padding: 0 18px;\r\n  overflow: hidden;\r\n  background-color: #fff;\r\n  height: 0px;\r\n  -moz-transition: height .2s ease-out;\r\n  -ms-transition: height .2s ease-out;\r\n  -o-transition: height .2s ease-out;\r\n  -webkit-transition: height .2s ease-out;\r\n  transition: height .2s ease-out;\r\n}\r\n</style>\r\n\r\n<button type='button' class='collapsible'>▶ View Query Metrics</button>\r\n  \r\n<div class='content'>\r\n  <div class='measuringWrapper'>\r\n    <span style=\"color:#0078D4\"><b>totalExecutionTimeInMs    </b>:    0.49<br/><b>queryCompileTimeInMs    </b>:    0.11<br/><b>queryLogicalPlanBuildTimeInMs    </b>:    0.03<br/><b>queryPhysicalPlanBuildTimeInMs    </b>:    0.03<br/><b>queryOptimizationTimeInMs    </b>:    0<br/><b>VMExecutionTimeInMs    </b>:    0.12<br/><b>indexLookupTimeInMs    </b>:    0<br/><b>documentLoadTimeInMs    </b>:    0.06<br/><b>systemFunctionExecuteTimeInMs    </b>:    0<br/><b>userFunctionExecuteTimeInMs    </b>:    0<br/><b>retrievedDocumentCount    </b>:    7<br/><b>retrievedDocumentSize    </b>:    3625<br/><b>outputDocumentCount    </b>:    7<br/><b>outputDocumentSize    </b>:    640<br/><b>writeOutputTimeInMs    </b>:    0.02<br/><b>averageIndexUtilizationRation    </b>:    1<br/></span>\r\n  </div>\r\n</div>\r\n\r\n<script>\r\nvar coll = document.getElementsByClassName('collapsible');\r\nvar i;\r\n\r\nfor (i = 0; i < coll.length; i++) {\r\n  \r\n  coll[i].addEventListener('click', function() {\r\n    this.classList.toggle('active');\r\n    var content = this.nextElementSibling;\r\n    \r\n    if (content.clientHeight != 0) {\r\n      this.textContent = '▶ View Query Metrics';\r\n      content.style.height = '0px';\r\n    }\r\n    else {\r\n      this.textContent = '▼ Hide Query Metrics';\r\n      content.style.height = content.children[0].clientHeight + 'px';\r\n    }\r\n  });\r\n}\r\n</script>\r\n</div>"
          },
          "metadata": {},
          "output_type": "display_data"
        },
        {
          "data": {
            "text/html": "<div>\n<style scoped>\n    .dataframe tbody tr th:only-of-type {\n        vertical-align: middle;\n    }\n\n    .dataframe tbody tr th {\n        vertical-align: top;\n    }\n\n    .dataframe thead th {\n        text-align: right;\n    }\n</style>\n<table border=\"1\" class=\"dataframe\">\n  <thead>\n    <tr style=\"text-align: right;\">\n      <th></th>\n      <th>Action</th>\n      <th>ItemRevenue</th>\n      <th>Country</th>\n      <th>Item</th>\n    </tr>\n  </thead>\n  <tbody>\n    <tr>\n      <th>0</th>\n      <td>Viewed</td>\n      <td>3.75</td>\n      <td>Guinea-Bissau</td>\n      <td>Socks</td>\n    </tr>\n    <tr>\n      <th>1</th>\n      <td>Added</td>\n      <td>19.99</td>\n      <td>Syrian Arab Republic</td>\n      <td>Button-Up Shirt</td>\n    </tr>\n    <tr>\n      <th>2</th>\n      <td>Viewed</td>\n      <td>9.00</td>\n      <td>Tunisia</td>\n      <td>Black Tee</td>\n    </tr>\n    <tr>\n      <th>3</th>\n      <td>Viewed</td>\n      <td>55.00</td>\n      <td>Czech Republic</td>\n      <td>Rainjacket</td>\n    </tr>\n    <tr>\n      <th>4</th>\n      <td>Added</td>\n      <td>3.75</td>\n      <td>Guinea-Bissau</td>\n      <td>Socks</td>\n    </tr>\n    <tr>\n      <th>5</th>\n      <td>Viewed</td>\n      <td>350.00</td>\n      <td>Iceland</td>\n      <td>Cosmos T-shirt</td>\n    </tr>\n    <tr>\n      <th>6</th>\n      <td>Viewed</td>\n      <td>19.99</td>\n      <td>Antigua and Barbuda</td>\n      <td>Flannel Shirt</td>\n    </tr>\n  </tbody>\n</table>\n</div>",
            "text/plain": "   Action  ItemRevenue               Country             Item\n0  Viewed         3.75         Guinea-Bissau            Socks\n1   Added        19.99  Syrian Arab Republic  Button-Up Shirt\n2  Viewed         9.00               Tunisia        Black Tee\n3  Viewed        55.00        Czech Republic       Rainjacket\n4   Added         3.75         Guinea-Bissau            Socks\n5  Viewed       350.00               Iceland   Cosmos T-shirt\n6  Viewed        19.99   Antigua and Barbuda    Flannel Shirt"
          },
          "metadata": {},
          "output_type": "display_data"
        }
      ],
      "source": "%%sql\nSELECT c.Action, c.Price as ItemRevenue, c.Country, c.Item FROM c"
    },
    {
      "cell_type": "markdown",
      "metadata": {},
      "source": "We can get more information about the %%sql command using ```%%sql?```"
    },
    {
      "cell_type": "markdown",
      "metadata": {},
      "source": "### Next steps\n\nNow that you've learned how to use basic notebook functionality, follow the **Visualization.ipynb** notebook to further analyze and visualize our data. You can find it under the **Sample Notebooks** section."
    }
  ],
  "metadata": {
    "kernelspec": {
      "display_name": "Python 3",
      "language": "python",
      "name": "python3"
    },
    "language_info": {
      "file_extension": "ipynb",
      "mimetype": "application/json",
      "name": "python",
      "version": "3.7"
    },
    "nteract": {
      "version": "dataExplorer 1.0"
    }
  },
  "nbformat": 4,
  "nbformat_minor": 2
}